{
 "cells": [
  {
   "cell_type": "markdown",
   "metadata": {},
   "source": [
    "\n",
    "# Training TensorFlow (Keras) Deep Learning Models Efficiently\n",
    "\n",
    "In this notebook, we present an **efficient methodology** to train Deep Learning models for image classification.\n",
    "\n",
    "In practical Deep Learning projects, data is typically stored on disks. The **tf.Data** API provides faster solutions to load large data from the disk and apply various transformations on it. This API uses the **Dataset** object for representing a very large set of elements. It allows us to assert finer control over the data pipeline.\n",
    "\n",
    "Using the tf.Data API, we construct a Dataset object from the local image repository. Then, the Dataset object is transformed for loading image-label pairs. Prior loading, we convert each encoded image (i.e., PNG-encoded images) as a Tensor object, type-casting it (e.g., float32), scaling, getting the image label from the stored images (from the image sub-directories organized by class names). Finally, image-label pairs are shuffled and put into batches for training the model. \n",
    "\n",
    "This program uses the **distributed training** technique. It utilizes multiple GPUs on a single node. The specification for the number and type of GPUs should be provided in the SLURM .sh job request file. More information on distributed training: https://keras.io/guides/distributed_training/\n",
    "\n",
    "\n",
    "\n",
    "## Distributed Training: Single-host & Multi-device Synchronous Training\n",
    "\n",
    "We use the **tf.distribute** API to train a TensorFlow Keras model on multiple GPUs installed on a single machine (node). \n",
    "\n",
    "Specifically, we use the tf.distribute.Strategy with tf.keras. The tf.distribute.Strategy is integrated into tf.keras, which is a high-level API to build and train models. By integrating into tf.keras backend, it is seamless for use to distribute the training written in the Keras training framework.\n",
    "\n",
    "More information on the distributed training with Keras:\n",
    "https://www.tensorflow.org/tutorials/distribute/keras\n",
    "\n",
    "\n",
    "### Parallelism Technique:\n",
    "Via the tf.distribute API, we implement the synchronous **data parallelism** technique. In this technique, a single model gets replicated on multiple devices or multiple machines. Each of them processes different batches of data, then they merge their results. The different replicas of the model stay in sync after each batch they process. Synchronicity keeps the model convergence behavior identical to what you would see for single-device training.\n",
    "\n",
    "\n",
    "### How to use the tf.distribute API for distributed training:\n",
    "To perform single-host, multi-device synchronous training with a TensorFlow Keras model, we use the tf.distribute.MirroredStrategy API. \n",
    "\n",
    "Following are the 3 simple steps.\n",
    "\n",
    "- Instantiate a MirroredStrategy.\n",
    "By default, the strategy will use all GPUs available on a single machine.\n",
    "\n",
    "- Use the strategy object to open a scope, and within this scope, \n",
    "create all the Keras objects you need that contain variables. \n",
    "More specifically, within the distribution scope:\n",
    "- Create the model\n",
    "- Compile the model (by defining the optimizer and metrics)\n",
    "\n",
    "- Train the model via the fit() method as usual (outside the scope).\n",
    "\n",
    "**Note**: we need to use tf.data.Dataset objects to load data in a multi-device or distributed workflow.\n",
    "\n",
    "\n",
    "\n",
    "## Local Data Repository\n",
    "\n",
    "This program assumes that the training and test data (i.e., images) are stored locally, and organized in nested directories as follows:\n",
    "- train\n",
    "   - class_name_1\n",
    "   - class_name_2\n",
    "   ...\n",
    "- test\n",
    "   - class_name_1\n",
    "   - class_name_2\n",
    "   ...\n",
    "\n",
    "Specifically, there should be two root directories named \"train\" and \"test\". The sub-directories should be named after the classes.\n",
    "\n",
    "## Data Augmentation\n",
    "\n",
    "In the distributed training setting, we recommend performing data augmentation inside the model so that it is done by GPUs. We use Keras image preproessing layer API to build the data augmentation pipeline. https://www.tensorflow.org/api_docs/python/tf/keras/layers/experimental/preprocessing\n",
    "\n",
    "The augmentation layer can be used inside the data preprocessing pipeline when training is done by a single device (CPU or GPU).\n",
    "\n",
    "Thus, while the data preprocessing pipeline is built using tf.Data API, the data augmentation pipeline is based on Keras image preproessing layer API, which can be integrated in the preprocessing pipeline when need be.\n",
    "\n",
    "For a detail discussion on various augmentation approaches, see the following GitHub repository:\n",
    "https://github.com/rhasanbd/Data-Augmentation-for-Deep-Learning"
   ]
  },
  {
   "cell_type": "code",
   "execution_count": 1,
   "metadata": {},
   "outputs": [],
   "source": [
    "# # Use comet ml to track the progress of the training and get training statistics\n",
    "# from comet_ml import Experiment\n",
    "\n",
    "# # Create an experiment with the api key:\n",
    "# experiment = Experiment(\n",
    "#     api_key=\"\",\n",
    "#     project_name=\"\",\n",
    "#     workspace=\"\",\n",
    "#     log_code = True,\n",
    "#     auto_param_logging=True\n",
    "# )"
   ]
  },
  {
   "cell_type": "code",
   "execution_count": 2,
   "metadata": {},
   "outputs": [],
   "source": [
    "#Import statements\n",
    "import warnings\n",
    "import os\n",
    "import time\n",
    "import numpy as np\n",
    "import random\n",
    "import matplotlib.pyplot as plt\n",
    "\n",
    "from sklearn.metrics import confusion_matrix, accuracy_score, classification_report\n",
    "\n",
    "\n",
    "import torch # torch is used to get GPU information\n",
    "import tensorflow as tf\n",
    "\n",
    "# Python Imaging Library is used for opening image files\n",
    "import PIL\n",
    "import PIL.Image\n",
    "\n",
    "import pathlib # required to access the image folders"
   ]
  },
  {
   "cell_type": "code",
   "execution_count": 3,
   "metadata": {},
   "outputs": [
    {
     "name": "stdout",
     "output_type": "stream",
     "text": [
      "No GPU available, using the CPU\n"
     ]
    }
   ],
   "source": [
    "# Variable to store number of available GPUs\n",
    "num_of_gpu = 0\n",
    "\n",
    "# Determine the number of GPUs available\n",
    "if torch.cuda.is_available():    \n",
    "    # Tell torch to use the GPU    \n",
    "    device = torch.device(\"cuda\")\n",
    "    \n",
    "    # Get the number of GPUs\n",
    "    num_of_gpu = torch.cuda.device_count()\n",
    "    print(\"Number of available GPU(s) %d.\" % num_of_gpu)\n",
    "\n",
    "    print(\"GPU Name: \", torch.cuda.get_device_name(0))\n",
    "else:\n",
    "    print(\"No GPU available, using the CPU\")\n",
    "    device = torch.device(\"cpu\")"
   ]
  },
  {
   "cell_type": "code",
   "execution_count": 4,
   "metadata": {},
   "outputs": [
    {
     "name": "stdout",
     "output_type": "stream",
     "text": [
      "WARNING:tensorflow:There are non-GPU devices in `tf.distribute.Strategy`, not using nccl allreduce.\n",
      "WARNING:tensorflow:Collective ops is not configured at program startup. Some performance features may not be enabled.\n",
      "INFO:tensorflow:Using MirroredStrategy with devices ('/job:localhost/replica:0/task:0/device:CPU:0',)\n",
      "\n",
      "Number of GPU(s): 1\n"
     ]
    }
   ],
   "source": [
    "'''\n",
    "Create a MirroredStrategy\n",
    "The training model must be created and compiled inside the scope of this strategy\n",
    "'''\n",
    "strategy = tf.distribute.MirroredStrategy()\n",
    "print(\"\\nNumber of GPU(s): {}\".format(strategy.num_replicas_in_sync))"
   ]
  },
  {
   "cell_type": "markdown",
   "metadata": {},
   "source": [
    "## Creating a Data Pipeline \n",
    "\n",
    "\n",
    "We create a data pipeline to perform the following tasks:\n",
    "- Load the data from the local storage into the program's memory\n",
    "- Prepare the dataset for training\n",
    "\n",
    "\n",
    "## Load Data from Storage \n",
    "\n",
    "We use TensorFlow's Data API tf.data to load and preprocess a large dataset efficiently. This API loads the data as tf Dataset object, which is required for distributed training (using multiple GPUs) and faster processing.\n",
    "\n",
    "\n",
    "## Approach for Loading the Images and their Labels\n",
    "\n",
    "- Create the list of file names (filepaths)\n",
    "- Create tf Dataset that consumes the list of file names \n",
    "- From this list, load the (image, label) pairs\n",
    "\n",
    "\n",
    "## Create the List of File Names (Filepaths)\n",
    "\n",
    "We get the list of file names (filepaths) by accessig the image folders. We use Path and glob methods in the pathlib module for accessing the image folders. "
   ]
  },
  {
   "cell_type": "code",
   "execution_count": 5,
   "metadata": {},
   "outputs": [
    {
     "name": "stdout",
     "output_type": "stream",
     "text": [
      "Train directory path:  /Users/hasan/datasets/cifar10/train\n",
      "Test directory path:  /Users/hasan/datasets/cifar10/test\n",
      "\n",
      "Number of training files:  50000\n",
      "Number of test files:  10000\n",
      "\n",
      "Path of the first training image:  /Users/hasan/datasets/cifar10/train/cat/3975.png\n"
     ]
    },
    {
     "data": {
      "image/png": "[encoded data removed]",
      "text/plain": [
       "<PIL.PngImagePlugin.PngImageFile image mode=RGB size=32x32 at 0x1A6B4502E8>"
      ]
     },
     "execution_count": 5,
     "metadata": {},
     "output_type": "execute_result"
    }
   ],
   "source": [
    "# Get the path to the root directory\n",
    "ROOT_DIR = os.path.abspath(os.curdir)\n",
    "\n",
    "# Create the path to the image directories\n",
    "train_dir = os.path.join(ROOT_DIR, 'datasets/cifar10/train')\n",
    "test_dir = os.path.join(ROOT_DIR, 'datasets/cifar10/test')\n",
    "\n",
    "print(\"Train directory path: \", train_dir)\n",
    "print(\"Test directory path: \", test_dir)\n",
    "\n",
    "# Create a list of training filenames\n",
    "train_data_dir = pathlib.Path(train_dir)\n",
    "train_file_paths = list(train_data_dir.glob('*/*')) # Get the list of all training image filepaths\n",
    "print(\"\\nNumber of training files: \", len(train_file_paths))\n",
    "\n",
    "# Create a list of test filenames\n",
    "test_data_dir = pathlib.Path(test_dir)\n",
    "test_file_paths = list(test_data_dir.glob('*/*')) # Get the list of all test image filepaths\n",
    "print(\"Number of test files: \", len(test_file_paths))\n",
    "\n",
    "print(\"\\nPath of the first training image: \", train_file_paths[0])\n",
    "PIL.Image.open(train_file_paths[0])"
   ]
  },
  {
   "cell_type": "markdown",
   "metadata": {},
   "source": [
    "## Create a tf Dataset that Consumes the List of File Names (Filepaths)\n",
    "\n",
    "There are two options to create the image file list Dataset.\n",
    "\n",
    "- Option 1: Create the file list Dataset by using the Dataset.from_tensor_slices() method\n",
    "- Option 2: Create the file list Dataset by using the Dataset.list_files() method\n",
    "\n",
    "Note that, before using Option 2, if the filenames have already been globbed, then re-globbing every filename with the list_files() method may result in poor performance with remote storage systems.\n",
    "\n",
    "Since, we have already globbed the file names & paths in the first step, we do not use Option 2.\n",
    "However, the code for option 2 is provided (commented out)."
   ]
  },
  {
   "cell_type": "code",
   "execution_count": 6,
   "metadata": {},
   "outputs": [
    {
     "name": "stdout",
     "output_type": "stream",
     "text": [
      "Train filenames list length:  50000\n",
      "Test filenames list length:  10000\n",
      "\n",
      "Number of samples (image files) in training dataset:  50000\n",
      "Number of samples (image files) in test dataset:  10000\n"
     ]
    }
   ],
   "source": [
    "#_______________________Option 1: \"from_tensor_slices\" method____________________________\n",
    "\n",
    "\n",
    "'''\n",
    "Get filenames (filepaths) as strings in a list (for training & testing images) \n",
    "'''\n",
    "train_fnames=[]\n",
    "for fname in train_file_paths:\n",
    "    train_fnames.append(str(fname))\n",
    "\n",
    "print(\"Train filenames list length: \", len(train_fnames))\n",
    "\n",
    "test_fnames=[]\n",
    "for fname in test_file_paths:\n",
    "    test_fnames.append(str(fname))\n",
    "\n",
    "print(\"Test filenames list length: \", len(test_fnames))\n",
    "\n",
    "\n",
    "'''\n",
    "Shuffle the filepaths\n",
    "'''\n",
    "random.shuffle(train_fnames)\n",
    "random.shuffle(test_fnames)\n",
    "\n",
    "\n",
    "'''\n",
    "Create the filepath list Dataset (for training & testing images) \n",
    "'''\n",
    "train_dataset = tf.data.Dataset.from_tensor_slices(train_fnames)\n",
    "test_dataset = tf.data.Dataset.from_tensor_slices(test_fnames)\n",
    "\n",
    "\n",
    "\n",
    "#_______________________Option 2: \"list_flies\" method (NOT USED)__________________________\n",
    "\n",
    "# #Get a training dataset of all files (list of all image paths) matching the glob pattern\n",
    "# train_dataset = tf.data.Dataset.list_files(str(train_data_dir/'*/*'))\n",
    "# \n",
    "# #Get a test dataset of all files (list of all image paths) matching the glob pattern\n",
    "# test_dataset = tf.data.Dataset.list_files(str(test_data_dir/'*/*'))\n",
    "\n",
    "\n",
    "train_dataset_size = train_dataset.cardinality().numpy()\n",
    "test_dataset_size = test_dataset.cardinality().numpy()\n",
    "\n",
    "\n",
    "print(\"\\nNumber of samples (image files) in training dataset: \", train_dataset_size)\n",
    "print(\"Number of samples (image files) in test dataset: \", test_dataset_size)"
   ]
  },
  {
   "cell_type": "markdown",
   "metadata": {},
   "source": [
    "## Display Some Filepaths from the Dataset\n",
    "\n",
    "We display the file names (filepaths) of five files from the Dataset. Observe that\n",
    "- The file names are shuffled\n",
    "- The letter \"b\" appears before the filepaths because TensorFlow parses the strings as byte-strings"
   ]
  },
  {
   "cell_type": "code",
   "execution_count": 7,
   "metadata": {},
   "outputs": [
    {
     "name": "stdout",
     "output_type": "stream",
     "text": [
      "b'/Users/hasan/datasets/cifar10/train/deer/1983.png'\n",
      "b'/Users/hasan/datasets/cifar10/train/dog/4592.png'\n",
      "b'/Users/hasan/datasets/cifar10/train/ship/1339.png'\n",
      "b'/Users/hasan/datasets/cifar10/train/horse/3619.png'\n",
      "b'/Users/hasan/datasets/cifar10/train/horse/1058.png'\n"
     ]
    }
   ],
   "source": [
    "for f in train_dataset.take(5):\n",
    "    print(f.numpy())"
   ]
  },
  {
   "cell_type": "markdown",
   "metadata": {},
   "source": [
    "## Function for Loading the (image, label) Pair from the Filepath\n",
    "\n",
    "\n",
    "We define the \"load_labeled_data\" function that takes a filepath and returns the image-label pair. The image is loaded as a float32 Tensor (scaled) and the label is loaded as one-hot encoded int32 Tensor. This function is used by the Dataset to load image-label pairs from the list of filepaths.\n",
    "\n",
    "The \"load_labeled_data\" function is defined based on a few other functions below."
   ]
  },
  {
   "cell_type": "code",
   "execution_count": 8,
   "metadata": {},
   "outputs": [
    {
     "name": "stdout",
     "output_type": "stream",
     "text": [
      "\n",
      "Class names:\n",
      " ['cat', 'dog', 'truck', 'bird', 'airplane', 'ship', 'frog', 'horse', 'deer', 'automobile']\n"
     ]
    }
   ],
   "source": [
    "'''\n",
    "Get class names as a list\n",
    "The class names will be used by the \"get_label\" function\n",
    "NOTE: it only works if the data is structured in nested sub-directories named after the classes.\n",
    "'''\n",
    "CLASS_NAMES = os.listdir(train_data_dir)\n",
    "print(\"\\nClass names:\\n\", CLASS_NAMES)\n",
    "\n",
    "\n",
    "'''\n",
    "Function to get the label of an image (file) from its path and class names\n",
    "The labels are one-hot encoded\n",
    "'''\n",
    "def get_label(file_path):\n",
    "  # Convert the path to a list of path components\n",
    "  parts = tf.strings.split(file_path, os.path.sep)\n",
    "  # The second to last is the class-directory (i.e., name of the class)\n",
    "  return tf.cast(parts[-2] == CLASS_NAMES, dtype=tf.int32)\n",
    "  \n",
    "\n",
    "'''\n",
    "This function reads a PNG-encoded image into a uint8 tensor\n",
    "- Converts the uint8 tensor into float32\n",
    "- Scales the tensor into the range [0,1] automatically while converting to float32\n",
    "  Thus, we don't need to scale the images separately\n",
    "- Resizes the image\n",
    "Note: if the image encoding is other than PNG, then a suitable decode method should be used.\n",
    "'''   \n",
    "def process_image(image, image_height=32, image_width=32):  \n",
    "    # Decode a PNG-encoded image to a uint8 tensor\n",
    "    image = tf.image.decode_png(image, channels=3)\n",
    "\n",
    "    # Convert the unit8 tensor to floats in the [0,1] range\n",
    "    # Images that are represented using floating point values are expected to have values in the range [0,1]\n",
    "    image = tf.image.convert_image_dtype(image, tf.float32)\n",
    "    \n",
    "    # Resize image\n",
    "    image = tf.image.resize(image, [image_height, image_width])\n",
    "    \n",
    "    return image\n",
    "    \n",
    "'''\n",
    "This functions returns a one-hot encoded labeled float32 tensor of an image \n",
    "based on its file path\n",
    "'''\n",
    "def load_labeled_data(file_path):\n",
    "    img = tf.io.read_file(file_path)\n",
    "    img = process_image(img)\n",
    "    label = get_label(file_path)\n",
    "    return img, label "
   ]
  },
  {
   "cell_type": "markdown",
   "metadata": {},
   "source": [
    "## Function to Prepare the Dataset for Training\n",
    "\n",
    "To prepare the Dataset for training, we need to:\n",
    "- Get the (image, label) pairs from the list Dataset object (that contains list of file paths)\n",
    "- Load these pairs in memory\n",
    "- Create mini-batches for training and validation\n",
    "\n",
    "The Dataset object provides convenient methods for these and additional useful data preprocessing tasks. We chain the relevant methods on the Dataset object to:\n",
    "- Load (image, label) pairs into the Dataset object\n",
    "- Cache Dataset\n",
    "- Shuffle Dataset\n",
    "- Create mini-batches\n",
    "- Perform data augmentation\n",
    "- Prefetch a mini-batch\n",
    "\n",
    "First, we call the Dataset's map() method that applies the data loading function \"load_labeled_data\" on each sample of the dataset. The returned new object will emit transformed images and their one-hot encoded labels in the original order.\n",
    "\n",
    "Second, we cache the data locally. The \"cache\" method stores dataset elements in memory (by default) or in file for future reusing.\n",
    "- The first time the dataset is iterated over (i.e., first epoch), its elements will be cached either in the specified file or in memory. \n",
    "- Subsequent iterations (i.e., epochs) will use the cached data. This will save some operations (e.g., file opening, data reading, parsing, transforming, etc.) from being executed during each epoch.\n",
    "\n",
    "Caching should be used judiciously.\n",
    "- Smaller dataset (that fits into memory): use the cache method. \n",
    "- Large dataset:  typically is sharded (split in multiple files), and do not fit in memory. Thus, it should not be cached in memory.\n",
    "\n",
    "The cache method will produce exactly the same elements during each iteration (epoch) through the dataset. \n",
    "For randomizing the iteration order, we need to call the shuffle method after calling cache.\n",
    "\n",
    "Third, we randomly shuffle the dataset using the shuffle method. The shuffle method randomly shuffles the elements of the dataset. First, it fills a buffer with the dataset with buffer_size elements. Then, it randomly samples elements from this buffer, replacing the selected elements with new elements. For perfect shuffling, the buffer_size should be greater than or equal to the size of the dataset.  However, for large datasets, this isn't possible. So, we will use a large enough buffer_size.\n",
    "\n",
    "Fourth, we batch the dataset. In the batch method, we set \"drop_remainder\" to True so that the size of the training set is divisible by the batch_size. It is done by removing enough training examples. \n",
    "\n",
    "Finally, we prefetch a batch to decouple the time when data is produced from the time when data is consumed. The transformation uses a background thread and an internal buffer to prefetch elements from the input dataset ahead of the time they are requested. The number of elements to prefetch should be equal to (or possibly greater than)  the number of batches consumed by a single training step. Instead of manually tuning this value, we set it to tf.data.AUTOTUNE, which will prompt the tf.data runtime to tune the value dynamically at runtime."
   ]
  },
  {
   "cell_type": "code",
   "execution_count": 9,
   "metadata": {},
   "outputs": [],
   "source": [
    "def prepare_dataset(ds, mini_batch, epochs, shuffle=False, buffer_size=0, augment=False, augment_func=None):\n",
    "\n",
    "    '''\n",
    "    The map method applies the argument function (i.e., load_labeled_data) \n",
    "    to each element of the dataset, \n",
    "    and returns a new dataset containing the transformed elements (i.e., image-label pairs), \n",
    "    in the same order as they appeared in the input.\n",
    "    '''\n",
    "    ds = ds.map(load_labeled_data, num_parallel_calls=tf.data.AUTOTUNE)\n",
    "    \n",
    "    '''\n",
    "    Cache the dataset elements in memory\n",
    "    '''\n",
    "    ds = ds.cache()\n",
    "  \n",
    "    '''\n",
    "    Shuffle the dataset\n",
    "    '''\n",
    "    if shuffle:\n",
    "        ds = ds.shuffle(buffer_size)\n",
    "      \n",
    "    '''\n",
    "    Repeat the shuffled dataset\n",
    "    '''  \n",
    "    ds = ds.repeat(count=epochs)\n",
    "    \n",
    "\n",
    "    '''\n",
    "    Batch all datasets\n",
    "    '''\n",
    "    ds = ds.batch(mini_batch, drop_remainder=True)\n",
    "\n",
    "    '''\n",
    "    Use data augmentation only on the training set\n",
    "    When training is done using GPUs in a distributed setting, \n",
    "    for efficiency, perform data augmentation inside the model. \n",
    "    '''\n",
    "    if augment:\n",
    "        ds = ds.map(lambda x, y: (augment_func(x, training=True), y), num_parallel_calls=tf.data.AUTOTUNE)\n",
    "    \n",
    "    '''\n",
    "    Repeats the batch so each original value is seen \"count\" times\n",
    "    Increasing \"count\" will increase the number of steps per epoch\n",
    "    '''\n",
    "    #ds = ds.repeat(count=2) \n",
    "    \n",
    "    '''\n",
    "    Use buffered prefecting on all datasets\n",
    "    '''\n",
    "    return ds.prefetch(buffer_size=tf.data.AUTOTUNE)"
   ]
  },
  {
   "cell_type": "markdown",
   "metadata": {},
   "source": [
    "## Prepare Dataset for Training"
   ]
  },
  {
   "cell_type": "code",
   "execution_count": 10,
   "metadata": {},
   "outputs": [
    {
     "name": "stdout",
     "output_type": "stream",
     "text": [
      "\n",
      "Size of training mini-batch:  64\n",
      "Size of test mini-batch:  64\n",
      "\n",
      "Buffer Size:  50000\n",
      "\n",
      "Epochs:  5\n",
      "Data available to run for 5 epochs\n",
      "Unlimited data available:  False\n"
     ]
    }
   ],
   "source": [
    "'''\n",
    "Determine the size of mini-batch for training\n",
    "It should be a multiple of BATCH_SIZE_PER_REPLICA \n",
    "The multiplication factor is determined by the number of available GPUs (or strategy.num_replicas_in_sync)\n",
    "'''\n",
    "                                    \n",
    "BATCH_SIZE_PER_REPLICA = 64\n",
    "\n",
    "if(num_of_gpu > 0):\n",
    "    size_of_mini_batch = BATCH_SIZE_PER_REPLICA*num_of_gpu\n",
    "else:\n",
    "    size_of_mini_batch = BATCH_SIZE_PER_REPLICA # Uses the CPU, as no GPU is available\n",
    "\n",
    "\n",
    "'''\n",
    "Size of test mini-batch \n",
    "'''\n",
    "size_of_mini_batch_test = size_of_mini_batch\n",
    "\n",
    "print(\"\\nSize of training mini-batch: \", size_of_mini_batch)\n",
    "print(\"Size of test mini-batch: \", size_of_mini_batch_test)\n",
    "\n",
    "\n",
    "'''\n",
    "Used by the \"shuffle\" method. \n",
    "For small dataset, it should be equal or larger than training set.\n",
    "'''\n",
    "buffer_size =   train_dataset_size\n",
    "print(\"\\nBuffer Size: \", buffer_size)\n",
    "\n",
    "\n",
    "'''\n",
    "Set the number of training epochs.\n",
    "This is required by the repeat method.\n",
    "'''\n",
    "no_of_epochs = 5\n",
    "print(\"\\nEpochs: \", no_of_epochs)\n",
    "\n",
    "\n",
    "'''\n",
    "Perform data preprocessing by the CPU.\n",
    "It is efficient as it ensures that the GPUs will be used only for model training.\n",
    "'''\n",
    "with tf.device('/cpu:0'):\n",
    "    train_loader = prepare_dataset(train_dataset, size_of_mini_batch, no_of_epochs, \n",
    "                                   shuffle=True, buffer_size=buffer_size, augment=False, augment_func=None)\n",
    "    test_loader = prepare_dataset(test_dataset, size_of_mini_batch_test, no_of_epochs)\n",
    "    no_of_steps_per_epoch = train_dataset_size//size_of_mini_batch\n",
    "    total_no_of_steps = train_loader.cardinality().numpy()\n",
    "    print(\"Data available to run for %d epochs\" % (total_no_of_steps//no_of_steps_per_epoch))\n",
    "    print(\"Unlimited data available: \", (train_loader.cardinality() == tf.data.INFINITE_CARDINALITY).numpy())"
   ]
  },
  {
   "cell_type": "code",
   "execution_count": 11,
   "metadata": {},
   "outputs": [
    {
     "data": {
      "image/png": "[encoded data removed]",
      "text/plain": [
       "<Figure size 360x360 with 9 Axes>"
      ]
     },
     "metadata": {
      "needs_background": "light"
     },
     "output_type": "display_data"
    }
   ],
   "source": [
    "'''\n",
    "Display some training images from a training Dataset batch\n",
    "'''\n",
    "image_batch, label_batch = next(iter(train_loader))\n",
    "\n",
    "plt.figure(figsize=(5, 5))\n",
    "for i in range(9):\n",
    "    ax = plt.subplot(3, 3, i + 1)\n",
    "    plt.imshow(image_batch[i])\n",
    "    label = label_batch[i]\n",
    "    plt.title(CLASS_NAMES[tf.argmax(label)])\n",
    "    plt.axis(\"off\")"
   ]
  },
  {
   "cell_type": "markdown",
   "metadata": {},
   "source": [
    "## Data Augmentation Layer\n",
    "\n",
    "We define a custom Data Augmentation layer by extending the Keras API. It uses the Keras Image Preprocessing Layers.\n",
    "\n",
    "\n",
    "All custom layers subclass the Layer class and implement:\n",
    "- call method: It specifies the computation done by the layer.\n",
    "- build method: It creates the weights of the layer (we can create weights in __init__, as well).\n",
    "- get_config method: If we need the custom layer to be serializable (e.g., when included in the learning model), we should implement the get_config method. This method is used to return the constructor arguments of the layer instance.\n",
    "\n",
    "\n",
    "When training is done by a single device (CPU or GPU), data augmentation should be done during preprocessing. However, in distributed training (using multiple GPUs), we can expedite the training time by integrating data augmentation into the learning model so that it is done by GPUs.\n",
    "\n",
    "In this demo, we perform data augmentation inside the model. For this, we ceate a data augmentation layer by defining a function named \"data_augmentation_layer\". The function is based on a data augmentation Sequential layer object (defined in the class \"DataAugmentation\"). This custom layer object is included in the learning model.\n",
    "\n",
    "\n",
    "To learn more about various techniques for data augmentation, see:\n",
    "https://github.com/rhasanbd/Data-Augmentation-for-Deep-Learning"
   ]
  },
  {
   "cell_type": "code",
   "execution_count": 12,
   "metadata": {},
   "outputs": [],
   "source": [
    "'''\n",
    "Define the DataAugmentation class using the tf.Keras' Sequential API.\n",
    "It creates a data augmentation layer for performing following augmentation to input data:\n",
    "- Resize (increase the size)\n",
    "- Random zoom\n",
    "- Random rotation\n",
    "- Random horizontal flip\n",
    "- Random crop (restore the original size)\n",
    "'''\n",
    "\n",
    "class DataAugmentation(tf.keras.layers.Layer):\n",
    "    def __init__(self, original_size, increased_size, rotation_angle_degree, zoom_height_factor, **kwargs):\n",
    "        super().__init__(**kwargs)\n",
    "        self.augmentation_layers = [] \n",
    "        self.augmentation_layers.append(tf.keras.layers.experimental.preprocessing.Resizing(increased_size, increased_size))\n",
    "        self.augmentation_layers.append(tf.keras.layers.experimental.preprocessing.RandomZoom(zoom_height_factor, width_factor=None, \n",
    "                                                                                              fill_mode='nearest', interpolation='bilinear'))\n",
    "        self.augmentation_layers.append(tf.keras.layers.experimental.preprocessing.RandomRotation(rotation_angle_degree/360, \n",
    "                                                                                                  fill_mode='nearest', interpolation='bilinear'))\n",
    "        self.augmentation_layers.append(tf.keras.layers.experimental.preprocessing.RandomFlip(\"horizontal\"))\n",
    "        self.augmentation_layers.append(tf.keras.layers.experimental.preprocessing.RandomCrop(original_size, original_size))\n",
    "        \n",
    "      \n",
    "    def call(self, inputs):\n",
    "        Z = inputs\n",
    "        for layer in self.augmentation_layers:\n",
    "            Z = layer(Z)\n",
    "        return Z\n",
    "    \n",
    "    # Required for the custom object's serialization\n",
    "    def get_config(self):\n",
    "        config = super().get_config().copy()\n",
    "        config.update({\"augmentation\": self.augmentation_layers})\n",
    "        return config\n",
    "  \n",
    "\n",
    "'''\n",
    "This function creates a sequential tf.Keras layer for performing data augmentation\n",
    "'''\n",
    "def data_augmentation_layer(original_size, increased_size, rotation_angle_degree, zoom_height_factor):\n",
    "    \n",
    "    d_augmentation = tf.keras.models.Sequential(name='Data-Augmentation')\n",
    "    d_augmentation.add(DataAugmentation(original_size, increased_size, rotation_angle_degree, zoom_height_factor))\n",
    "\n",
    "    return d_augmentation  "
   ]
  },
  {
   "cell_type": "markdown",
   "metadata": {},
   "source": [
    "## Function for Creating the Training Model\n",
    "\n",
    "We define a function to create the VGG model. First, we define a custom VGG_Block class, which is used to create a VGGNet by the \"create_vgg_net\" function. The function also uses the custom data augmentation layer.\n",
    "\n",
    "For more information on the VGGNet, see:\n",
    "https://github.com/rhasanbd/Convolutional-Neural-Networks/blob/main/CNN-9-Notable%20Architectures-I.ipynb"
   ]
  },
  {
   "cell_type": "markdown",
   "metadata": {},
   "source": [
    "## VGG Block Class\n",
    "\n",
    "For serializability of this custom class, we override its get_config() method."
   ]
  },
  {
   "cell_type": "code",
   "execution_count": 13,
   "metadata": {},
   "outputs": [],
   "source": [
    "'''\n",
    "Define the VGG block class using Keras Sequential API \n",
    "The VGG_Block class takes two arguments:\n",
    "- conv_block_number: number of convolutional layers \n",
    "- num_of_channels: number of output channels \n",
    "'''\n",
    "class VGG_Block(tf.keras.layers.Layer):\n",
    "    def __init__(self, conv_block_number, num_of_channels, weight_decay, **kwargs):\n",
    "        super().__init__(**kwargs)\n",
    "        self.conv_layers = [] \n",
    "        for _ in range(conv_block_number):\n",
    "            self.conv_layers.append(tf.keras.layers.Conv2D(filters=num_of_channels, kernel_size=(3, 3), strides=1,\n",
    "                                padding='same', kernel_regularizer=tf.keras.regularizers.l2(weight_decay), use_bias=False))\n",
    "            self.conv_layers.append(tf.keras.layers.BatchNormalization())\n",
    "            self.conv_layers.append(tf.keras.layers.Activation(\"relu\"))\n",
    "        \n",
    "        self.pool_layer = tf.keras.layers.MaxPooling2D(pool_size=(2, 2), strides=2, padding='valid')\n",
    "\n",
    "    def call(self, inputs):\n",
    "        Z = inputs\n",
    "        for layer in self.conv_layers:\n",
    "            Z = layer(Z)\n",
    "            \n",
    "        Z = self.pool_layer(Z)\n",
    "        return Z\n",
    "        \n",
    "    # Required for the custom object's serialization\n",
    "    def get_config(self):\n",
    "        config = super().get_config().copy()\n",
    "        config.update({\n",
    "            \"conv_layers\": self.conv_layers,\n",
    "            \"pool_layer\": self.pool_layer,\n",
    "        })\n",
    "        return config"
   ]
  },
  {
   "cell_type": "markdown",
   "metadata": {},
   "source": [
    "## Function for Creating a VGGNet"
   ]
  },
  {
   "cell_type": "code",
   "execution_count": 14,
   "metadata": {},
   "outputs": [],
   "source": [
    "def create_vgg_net(conv_blocks, width, height, channels, num_classes, weight_decay, augmentation=False, **kwargs):\n",
    "    \n",
    "    vgg_net = tf.keras.models.Sequential(name='VGG')\n",
    "    \n",
    "    vgg_net.add(tf.keras.layers.InputLayer(input_shape=(width, height, channels)))\n",
    "    \n",
    "    # Data augmentation layer\n",
    "    if(augmentation):\n",
    "        vgg_net.add(data_augmentation_layer(**kwargs))\n",
    "    \n",
    "    # Convolutional layers based on the VGG_Block object\n",
    "    for (conv_block_number, num_of_channels) in conv_blocks:\n",
    "            vgg_net.add(VGG_Block(conv_block_number, num_of_channels, weight_decay))\n",
    "    \n",
    "    # Flatten the convnet output to feed it with fully-connected layers\n",
    "    vgg_net.add(tf.keras.layers.Flatten())\n",
    "    \n",
    "    # Fully-connected layers\n",
    "    vgg_net.add(tf.keras.layers.Dense(units=64, activation='relu'))\n",
    "    vgg_net.add(tf.keras.layers.Dropout(0.5))\n",
    "    vgg_net.add(tf.keras.layers.Dense(units=num_classes, activation='softmax'))\n",
    "    \n",
    "    return vgg_net"
   ]
  },
  {
   "cell_type": "markdown",
   "metadata": {},
   "source": [
    "## Create Model"
   ]
  },
  {
   "cell_type": "code",
   "execution_count": 15,
   "metadata": {},
   "outputs": [
    {
     "name": "stdout",
     "output_type": "stream",
     "text": [
      "Model: \"VGG\"\n",
      "_________________________________________________________________\n",
      "Layer (type)                 Output Shape              Param #   \n",
      "=================================================================\n",
      "vgg__block (VGG_Block)       (None, 16, 16, 32)        10336     \n",
      "_________________________________________________________________\n",
      "vgg__block_1 (VGG_Block)     (None, 8, 8, 64)          55808     \n",
      "_________________________________________________________________\n",
      "flatten (Flatten)            (None, 4096)              0         \n",
      "_________________________________________________________________\n",
      "dense (Dense)                (None, 64)                262208    \n",
      "_________________________________________________________________\n",
      "dropout (Dropout)            (None, 64)                0         \n",
      "_________________________________________________________________\n",
      "dense_1 (Dense)              (None, 10)                650       \n",
      "=================================================================\n",
      "Total params: 329,002\n",
      "Trainable params: 328,618\n",
      "Non-trainable params: 384\n",
      "_________________________________________________________________\n"
     ]
    }
   ],
   "source": [
    "'''\n",
    "Delete the TensorFlow graph before creating a new model, otherwise memory overflow will occur.\n",
    "'''\n",
    "tf.keras.backend.clear_session()\n",
    "\n",
    "'''\n",
    "To reproduce the same result by the model in each iteration, we use fixed seeds for random number generation. \n",
    "'''\n",
    "np.random.seed(42)\n",
    "tf.random.set_seed(42)\n",
    "\n",
    "\n",
    "'''\n",
    "Define the optimizer\n",
    "'''\n",
    "optimizer = tf.keras.optimizers.SGD(learning_rate=1e-1, momentum=0.9, nesterov=False)\n",
    "\n",
    "\n",
    "'''\n",
    "We use the layer_info variable for creating the VGG model.\n",
    "It contains a list of tuples (one per block).\n",
    "Each tuple contains two values: \n",
    "- number of convolutional layers\n",
    "- the number of output channels\n",
    "These two arguments are used to call the VGG_Block function\n",
    "'''\n",
    "layer_info = ((2, 32), (2, 64)) \n",
    "\n",
    "\n",
    "'''\n",
    "Open a strategy scope to create and compile the model\n",
    "Everything that creates variables should be under the strategy scope\n",
    "'''\n",
    "with strategy.scope():\n",
    "    \n",
    "    '''\n",
    "    If the \"augment\" is set to True, then pass the following keyword arguments.\n",
    "    - original_size\n",
    "    - increased_size\n",
    "    - rotation_angle_degree\n",
    "    - zoom_height_factor\n",
    "    '''\n",
    "    model = create_vgg_net(layer_info, 32, 32, channels=3, num_classes=10,\n",
    "                           weight_decay=0.001,\n",
    "                           augment=True, \n",
    "                           original_size=32, \n",
    "                           increased_size=36, \n",
    "                           rotation_angle_degree=20, \n",
    "                           zoom_height_factor=0.6)\n",
    "    model.summary()\n",
    "    loss_object = tf.keras.losses.CategoricalCrossentropy(from_logits=True)\n",
    "    model.compile(loss=loss_object,\n",
    "              optimizer=optimizer,\n",
    "              metrics=[tf.keras.metrics.CategoricalAccuracy()])"
   ]
  },
  {
   "cell_type": "markdown",
   "metadata": {},
   "source": [
    "## Plot the Model as a Graph"
   ]
  },
  {
   "cell_type": "code",
   "execution_count": 16,
   "metadata": {},
   "outputs": [
    {
     "data": {
      "image/png": "[encoded data removed]",
      "text/plain": [
       "<IPython.core.display.Image object>"
      ]
     },
     "execution_count": 16,
     "metadata": {},
     "output_type": "execute_result"
    }
   ],
   "source": [
    "tf.keras.utils.plot_model(model, \"VGGNet.png\", show_shapes=True)"
   ]
  },
  {
   "cell_type": "markdown",
   "metadata": {},
   "source": [
    "## Model Training\n",
    "\n",
    "\n",
    "We use the model.fit() method to train the model for a fixed number of epochs (iterations on a dataset).\n",
    "\n",
    "Since we repeat the dataset (train and validation) multiple times (equal to the number of epochs), we set the \"steps_per_epoch\" and \"validation_steps\" arguments of the fit method.\n",
    "\n",
    "- steps_per_epoch\n",
    "It specifies the total number of steps (batches of samples) before declaring one epoch finished and starting the next epoch. When training with input tf.data dataset, and 'steps_per_epoch' is None, the epoch will run until the input dataset is exhausted. When passing an infinitely repeating dataset, we must specify the steps_per_epoch argument.\n",
    "\n",
    "- validation_steps\n",
    "It specifies the total number of steps (batches of samples) to draw before stopping when performing validation at the end of every epoch. It is relevant only if validation_data is provided and is a tf.data dataset. If 'validation_steps' is None, validation will run until the validation_data dataset is exhausted. In the case of an infinitely repeated dataset, it will run into an infinite loop.\n",
    "\n",
    "\n",
    "### Model Serialization\n",
    "\n",
    "We save the best model using a callback function tf.keras.callbacks.ModelCheckpoint(). It is used in conjunction with training using model.fit() to save a model or weights (in a checkpoint file) at some interval, so the model or weights can be loaded later to continue the training from the state saved.\n",
    "\n",
    "Following two arguments need to be set carefully:\n",
    "\n",
    "- save_best_only\n",
    "We set its value to \"True\" so that the ModelCheckpoint() only saves when the model is considered the \"best\" and the latest best model according to the quantity monitored will not be overwritten.\n",
    "\n",
    "\n",
    "- save_weights_only\t\n",
    "We set its value to \"False\" so that the full model is saved (model.save(filepath)), instead of saving only the model's weights.\n",
    "\n",
    "\n",
    "### Note on the model.save() Method\n",
    "\n",
    "The deafult format for serialization used by the model.save() Method is the TensorFlow **SavedModel** format. Its alternative is the older Keras H5 format. We use the SavedModel format (so the model name does not have the .h5 extension).\n",
    "\n",
    "SavedModel is a comprehensive save format that saves: \n",
    "- the model architecture \n",
    "- weights\n",
    "- the traced Tensorflow subgraphs of the call functions \n",
    "\n",
    "This enables Keras to restore both built-in layers as well as custom objects (e.g., data augmentation layer).\n",
    "\n",
    "\n",
    "Calling model.save(model_name) creates a folder named model_name. It contains the following directories and file (.pb):\n",
    "- assets  \n",
    "- saved_model.pb  \n",
    "- variables\n",
    "\n",
    "The saved_model.pb file stores the actual TensorFlow program, or model. It includes the model architecture and training configuration (e.g., optimizer, losses, and metrics). \n",
    "\n",
    "The variables directory contains weights (i.e., a standard training checkpoint). For our model, it will save the weights of the best model so far.\n",
    "\n",
    "The assets directory contains files used by the TensorFlow graph. For example text files used to initialize vocabulary tables. For our model, this directory will be empty.\n",
    "\n",
    "For more informattion, see:\n",
    "https://keras.io/guides/serialization_and_saving/"
   ]
  },
  {
   "cell_type": "code",
   "execution_count": 17,
   "metadata": {},
   "outputs": [
    {
     "name": "stdout",
     "output_type": "stream",
     "text": [
      "\n",
      "Training started ...\n",
      "Epoch 1/5\n"
     ]
    },
    {
     "name": "stderr",
     "output_type": "stream",
     "text": [
      "/Users/hasan/anaconda3/lib/python3.7/site-packages/tensorflow/python/keras/backend.py:4870: UserWarning: \"`categorical_crossentropy` received `from_logits=True`, but the `output` argument was produced by a sigmoid or softmax activation and thus does not represent logits. Was this intended?\"\n",
      "  '\"`categorical_crossentropy` received `from_logits=True`, but '\n"
     ]
    },
    {
     "name": "stdout",
     "output_type": "stream",
     "text": [
      "781/781 [==============================] - 118s 147ms/step - loss: 2.4510 - categorical_accuracy: 0.0990 - val_loss: 2.3257 - val_categorical_accuracy: 0.1001\n"
     ]
    },
    {
     "name": "stderr",
     "output_type": "stream",
     "text": [
      "WARNING:absl:Found untraced functions such as conv2d_layer_call_and_return_conditional_losses, conv2d_layer_call_fn, activation_layer_call_and_return_conditional_losses, activation_layer_call_fn, conv2d_1_layer_call_and_return_conditional_losses while saving (showing 5 of 40). These functions will not be directly callable after loading.\n"
     ]
    },
    {
     "name": "stdout",
     "output_type": "stream",
     "text": [
      "INFO:tensorflow:Assets written to: /Users/hasan/Saved_Models/CIFAR10_VGG/assets\n"
     ]
    },
    {
     "name": "stderr",
     "output_type": "stream",
     "text": [
      "INFO:tensorflow:Assets written to: /Users/hasan/Saved_Models/CIFAR10_VGG/assets\n"
     ]
    },
    {
     "name": "stdout",
     "output_type": "stream",
     "text": [
      "Epoch 2/5\n",
      "781/781 [==============================] - 117s 150ms/step - loss: 2.3117 - categorical_accuracy: 0.0987 - val_loss: 2.3077 - val_categorical_accuracy: 0.1001\n",
      "Epoch 3/5\n",
      "781/781 [==============================] - 118s 151ms/step - loss: 2.3069 - categorical_accuracy: 0.0995 - val_loss: 2.3073 - val_categorical_accuracy: 0.1001\n",
      "Epoch 4/5\n",
      "781/781 [==============================] - 129s 165ms/step - loss: 2.3065 - categorical_accuracy: 0.0986 - val_loss: 2.3056 - val_categorical_accuracy: 0.0999\n",
      "Epoch 5/5\n",
      "781/781 [==============================] - 116s 148ms/step - loss: 2.3063 - categorical_accuracy: 0.1003 - val_loss: 2.3044 - val_categorical_accuracy: 0.1001\n"
     ]
    }
   ],
   "source": [
    "'''\n",
    "The model name variable is used for model serialization\n",
    "'''\n",
    "model_name = \"CIFAR10_VGG\"\n",
    "\n",
    "\n",
    "'''\n",
    "The file path to the Saved_Models diretory in which the best model will be serialized\n",
    "'''\n",
    "saved_model_directory = os.path.join(ROOT_DIR, 'Saved_Models')\n",
    "saved_model_path = os.path.join(saved_model_directory, model_name)\n",
    "\n",
    "\n",
    "'''\n",
    "Create model checkpoint \"callback\" object to save only the best performing model\n",
    "'''\n",
    "checkpoint_cb = tf.keras.callbacks.ModelCheckpoint(filepath=saved_model_path, \n",
    "                                                   monitor='val_categorical_accuracy',\n",
    "                                                   save_best_only=True,\n",
    "                                                   save_weights_only=False)\n",
    "\n",
    "\n",
    "'''\n",
    "Create a learning schedule \"callback\" object \n",
    "'''\n",
    "lschedule_cb = tf.keras.callbacks.ReduceLROnPlateau(monitor='val_categorical_accuracy', factor=0.1,\n",
    "                              patience=10, min_lr=0.000001, mode='auto', verbose=1)\n",
    "\n",
    "\n",
    "'''\n",
    "Train the model\n",
    "'''\n",
    "print(\"\\nTraining started ...\")\n",
    "\n",
    "history = model.fit(train_loader, \n",
    "                    epochs=no_of_epochs,\n",
    "                    verbose=1,\n",
    "                    callbacks=[lschedule_cb, checkpoint_cb],\n",
    "                    validation_data=test_loader,\n",
    "                    steps_per_epoch=train_dataset_size // size_of_mini_batch,\n",
    "                    validation_steps=test_dataset_size // size_of_mini_batch_test)"
   ]
  },
  {
   "cell_type": "markdown",
   "metadata": {},
   "source": [
    "# Model Evaluation\n",
    "\n",
    "We evaluate the trained model using various techniques.\n",
    "\n",
    "- Evaluate the Model using the History Object\n",
    "- Evaluate the Model using its evaluate() Method on the Batched Test Dataset Object\n",
    "- Evaluate the Model using its predict() Method on the Full Test Set\n",
    "- Evaluation using the Saved Model\n",
    "\n",
    "\n",
    "\n",
    "## Evaluate the Model using the History Object\n",
    "\n",
    "The model's fit method returns a History object, which we use for getting information on the model's performance. \n",
    "\n",
    "The History object has an attribute named \"history\" that contains a record of training loss values and metrics values at successive epochs, as well as validation loss values and validation metrics values (if applicable)."
   ]
  },
  {
   "cell_type": "code",
   "execution_count": 18,
   "metadata": {},
   "outputs": [
    {
     "name": "stdout",
     "output_type": "stream",
     "text": [
      "Epochs:  5\n",
      "\n",
      "CIFAR10_VGG Train Accuracy: 0.100\n",
      "CIFAR10_VGG Train Loss: 2.306\n",
      "\n",
      "CIFAR10_VGG Validation Accuracy: 0.100\n",
      "CIFAR10_VGG Validation Loss: 2.304\n"
     ]
    }
   ],
   "source": [
    "numOfEpochs = len(history.history['loss'])\n",
    "print(\"Epochs: \", numOfEpochs)\n",
    "\n",
    "train_acc = history.history['categorical_accuracy']\n",
    "val_acc = history.history['val_categorical_accuracy']\n",
    "\n",
    "\n",
    "train_loss = history.history['loss']\n",
    "val_loss = history.history['val_loss']\n",
    "\n",
    "\n",
    "# Read the last value from the list that represents final epoch statistics\n",
    "print(\"\\n{} Train Accuracy: {:.3f}\".format(model_name, train_acc[-1]))\n",
    "print(\"{} Train Loss: {:.3f}\".format(model_name, train_loss[-1]))\n",
    "\n",
    "print(\"\\n{} Validation Accuracy: {:.3f}\".format(model_name, val_acc[-1]))\n",
    "print(\"{} Validation Loss: {:.3f}\".format(model_name, val_loss[-1]))"
   ]
  },
  {
   "cell_type": "markdown",
   "metadata": {},
   "source": [
    "## Evaluate the Model using its evaluate() Method on the Batched Test Dataset Object"
   ]
  },
  {
   "cell_type": "code",
   "execution_count": 19,
   "metadata": {},
   "outputs": [
    {
     "name": "stdout",
     "output_type": "stream",
     "text": [
      "\n",
      "Test Accuracy: 0.100\n",
      "Test Loss: 2.304\n"
     ]
    }
   ],
   "source": [
    "test_loss, test_accuracy = model.evaluate(test_loader, verbose=0)\n",
    "print(\"\\nTest Accuracy: {:.3f}\".format(test_accuracy))\n",
    "print(\"Test Loss: {:.3f}\".format(test_loss))"
   ]
  },
  {
   "cell_type": "markdown",
   "metadata": {},
   "source": [
    "## Evaluate the Model using its predict() Method on the Full Test Set\n",
    "\n",
    "For evaluating the model using the test set, we need to create: \n",
    "- an array of test images (as Tensors)\n",
    "- an array of integer labels \n",
    "\n",
    "Then, we predict integer lables using the test images and compute model's performance using the true integer labels. Following evaluation metrics are used:\n",
    "- Accuracy\n",
    "- Confusion matrix\n",
    "- Classification report\n",
    "\n",
    "\n",
    "\n",
    "## Create Arrays of Test Images and Labels\n",
    "\n",
    "From the test Dataset object we create an array of tensor images and an array of their labels. The loaded labels are one-hot encoded, which we convert as an array of integer labels. "
   ]
  },
  {
   "cell_type": "code",
   "execution_count": 20,
   "metadata": {},
   "outputs": [
    {
     "name": "stdout",
     "output_type": "stream",
     "text": [
      "Number of Test Images:  10000\n",
      "\n",
      "Test Images Array Shape:  (10000, 32, 32, 3)\n",
      "Test Images Array Data Type:  <dtype: 'float32'>\n",
      "\n",
      "Test Labels Array Shape (one-hot encoded):  (10000, 10)\n",
      "Test Labels Array Data Type (one-hot encoded):  <dtype: 'int32'>\n",
      "\n",
      "Length of the integer labels list:  10000\n",
      "\n",
      "Shape of the integer label array:  (10000,)\n",
      "Data type of the integer label array:  <dtype: 'int64'>\n",
      "\n",
      "Sample one-hot encoded label:  tf.Tensor([0 0 0 0 0 1 0 0 0 0], shape=(10,), dtype=int32)\n",
      "Sample integer label:  tf.Tensor(5, shape=(), dtype=int64)\n"
     ]
    }
   ],
   "source": [
    "# Load the test dataset as image-label (one-hot encoded) pairs\n",
    "ds_test = test_dataset.map(load_labeled_data, num_parallel_calls=tf.data.AUTOTUNE)\n",
    "\n",
    "# Create lists of test images and their labels (one-hot encoded) \n",
    "images_test_list = []\n",
    "labels_test_list = []\n",
    "count = 0\n",
    "for images, labels in ds_test.take(-1):\n",
    "    count += 1\n",
    "    images_test_list.append(images)\n",
    "    labels_test_list.append(labels)\n",
    "\n",
    "print(\"Number of Test Images: \", count)\n",
    "\n",
    "\n",
    "# Convert the lists of images and labels (one-hot encoded) as arrays\n",
    "#images_test = np.asarray(images_test_list)\n",
    "#labels_test_one_hot_encoded = np.asarray(labels_test_list)\n",
    "images_test = tf.convert_to_tensor(images_test_list)\n",
    "labels_test_one_hot_encoded = tf.convert_to_tensor(labels_test_list)\n",
    "\n",
    "print(\"\\nTest Images Array Shape: \", images_test.shape)\n",
    "print(\"Test Images Array Data Type: \", images_test.dtype)\n",
    "\n",
    "\n",
    "print(\"\\nTest Labels Array Shape (one-hot encoded): \", labels_test_one_hot_encoded.shape)\n",
    "print(\"Test Labels Array Data Type (one-hot encoded): \", labels_test_one_hot_encoded.dtype)\n",
    "\n",
    "# Create a list of integer labels by converting one-hot encoded labels \n",
    "labels_test_list = []\n",
    "for i in range(labels_test_one_hot_encoded.shape[0]):\n",
    "    labels_test_list.append(tf.argmax(labels_test_one_hot_encoded[i]))\n",
    "\n",
    "# Number of integer labels \n",
    "print(\"\\nLength of the integer labels list: \", len(labels_test_list))\n",
    "\n",
    "# Convert the integer labels list as a numpy array\n",
    "#labels_test = np.asarray(labels_test_list)\n",
    "labels_test = tf.convert_to_tensor(labels_test_list)\n",
    "print(\"\\nShape of the integer label array: \", labels_test.shape)\n",
    "print(\"Data type of the integer label array: \", labels_test.dtype)\n",
    "\n",
    "print(\"\\nSample one-hot encoded label: \", labels_test_one_hot_encoded[670])\n",
    "print(\"Sample integer label: \", labels_test[670])"
   ]
  },
  {
   "cell_type": "markdown",
   "metadata": {},
   "source": [
    "## Make Predictions using the Test Images Tensor"
   ]
  },
  {
   "cell_type": "code",
   "execution_count": 21,
   "metadata": {},
   "outputs": [
    {
     "name": "stdout",
     "output_type": "stream",
     "text": [
      "\n",
      "Shape of the one-hot encoded predictions array:  (10000, 10)\n",
      "Data type of the one-hot encoded predictions array:  float32\n",
      "\n",
      "Shape of the integer predictions array:  (10000,)\n",
      "Data type of the integer predictions array:  <dtype: 'int64'>\n",
      "\n",
      "Sample one-hot encoded predicted label:  [0.10135484 0.10252091 0.10352198 0.11014185 0.10044903 0.08794268\n",
      " 0.09623654 0.10048236 0.09304459 0.10430516]\n",
      "Sample integer true label:  tf.Tensor(3, shape=(), dtype=int64)\n",
      "\n",
      "Test Accuracy:  0.1\n",
      "\n",
      "Test Confusion Matrix:\n",
      "[[   0    0    0 1000    0    0    0    0    0    0]\n",
      " [   0    0    0 1000    0    0    0    0    0    0]\n",
      " [   0    0    0 1000    0    0    0    0    0    0]\n",
      " [   0    0    0 1000    0    0    0    0    0    0]\n",
      " [   0    0    0 1000    0    0    0    0    0    0]\n",
      " [   0    0    0 1000    0    0    0    0    0    0]\n",
      " [   0    0    0 1000    0    0    0    0    0    0]\n",
      " [   0    0    0 1000    0    0    0    0    0    0]\n",
      " [   0    0    0 1000    0    0    0    0    0    0]\n",
      " [   0    0    0 1000    0    0    0    0    0    0]]\n",
      "\n",
      "Classification Report:\n",
      "              precision    recall  f1-score   support\n",
      "\n",
      "           0       0.00      0.00      0.00      1000\n",
      "           1       0.00      0.00      0.00      1000\n",
      "           2       0.00      0.00      0.00      1000\n",
      "           3       0.10      1.00      0.18      1000\n",
      "           4       0.00      0.00      0.00      1000\n",
      "           5       0.00      0.00      0.00      1000\n",
      "           6       0.00      0.00      0.00      1000\n",
      "           7       0.00      0.00      0.00      1000\n",
      "           8       0.00      0.00      0.00      1000\n",
      "           9       0.00      0.00      0.00      1000\n",
      "\n",
      "    accuracy                           0.10     10000\n",
      "   macro avg       0.01      0.10      0.02     10000\n",
      "weighted avg       0.01      0.10      0.02     10000\n",
      "\n"
     ]
    },
    {
     "name": "stderr",
     "output_type": "stream",
     "text": [
      "/Users/hasan/anaconda3/lib/python3.7/site-packages/sklearn/metrics/_classification.py:1272: UndefinedMetricWarning: Precision and F-score are ill-defined and being set to 0.0 in labels with no predicted samples. Use `zero_division` parameter to control this behavior.\n",
      "  _warn_prf(average, modifier, msg_start, len(result))\n"
     ]
    }
   ],
   "source": [
    "# Predict one-hot encoded labels for the test images\n",
    "labels_test_predicted_one_hot_encoded = model.predict(images_test)\n",
    "print(\"\\nShape of the one-hot encoded predictions array: \", labels_test_predicted_one_hot_encoded.shape)\n",
    "print(\"Data type of the one-hot encoded predictions array: \", labels_test_predicted_one_hot_encoded.dtype)\n",
    "\n",
    "# Create an array of integer labels by converting one-hot encoded labels array \n",
    "# This is done by getting the label/index of the highest probability class\n",
    "labels_test_predicted = tf.argmax(labels_test_predicted_one_hot_encoded, axis=1) \n",
    "print(\"\\nShape of the integer predictions array: \", labels_test_predicted.shape)\n",
    "print(\"Data type of the integer predictions array: \", labels_test_predicted.dtype)\n",
    "\n",
    "print(\"\\nSample one-hot encoded predicted label: \", labels_test_predicted_one_hot_encoded[670])\n",
    "print(\"Sample integer true label: \", labels_test_predicted[670])\n",
    "\n",
    "test_accuracy = np.mean(labels_test_predicted == labels_test)\n",
    "print(\"\\nTest Accuracy: \", test_accuracy)\n",
    "\n",
    "print(\"\\nTest Confusion Matrix:\")\n",
    "print(confusion_matrix(labels_test, labels_test_predicted))\n",
    "\n",
    "print(\"\\nClassification Report:\")\n",
    "print(classification_report(labels_test, labels_test_predicted))"
   ]
  },
  {
   "cell_type": "markdown",
   "metadata": {},
   "source": [
    "## Evaluation using the Saved Model\n",
    "\n",
    "We evaluate the saved model using its predict() method on the full test dataset.\n",
    "\n",
    "The saved model can be loaded by using tf.keras.models.load_model() method. If the model contains custom layers, then we need to set the \"custom_objects\" argument. It should be a dictionary mapping names (strings) to custom classes or functions to be considered during deserialization.\n",
    "\n",
    "In this demo, the training model is a custom object. Because it is created using the \"vgg\" function that is based on the custom data augmentation layer and the VGG_Block custom layer."
   ]
  },
  {
   "cell_type": "code",
   "execution_count": 22,
   "metadata": {},
   "outputs": [
    {
     "name": "stdout",
     "output_type": "stream",
     "text": [
      "\n",
      "Shape of the one-hot encoded predictions array:  (10000, 10)\n",
      "Data type of the one-hot encoded predictions array:  float32\n",
      "\n",
      "Shape of the integer predictions array:  (10000,)\n",
      "Data type of the integer predictions array:  <dtype: 'int64'>\n",
      "\n",
      "Sample one-hot encoded predicted label:  [0.08406379 0.09997708 0.09609977 0.11676621 0.10804287 0.10144781\n",
      " 0.10118209 0.09660711 0.08838193 0.10743137]\n",
      "Sample integer true label:  tf.Tensor(3, shape=(), dtype=int64)\n",
      "\n",
      "Test Accuracy:  0.1\n",
      "\n",
      "Test Confusion Matrix:\n",
      "[[   0    0    0 1000    0    0    0    0    0    0]\n",
      " [   0    0    0 1000    0    0    0    0    0    0]\n",
      " [   0    0    0 1000    0    0    0    0    0    0]\n",
      " [   0    0    0 1000    0    0    0    0    0    0]\n",
      " [   0    0    0 1000    0    0    0    0    0    0]\n",
      " [   0    0    0 1000    0    0    0    0    0    0]\n",
      " [   0    0    0 1000    0    0    0    0    0    0]\n",
      " [   0    0    0 1000    0    0    0    0    0    0]\n",
      " [   0    0    0 1000    0    0    0    0    0    0]\n",
      " [   0    0    0 1000    0    0    0    0    0    0]]\n",
      "\n",
      "Classification Report:\n",
      "              precision    recall  f1-score   support\n",
      "\n",
      "           0       0.00      0.00      0.00      1000\n",
      "           1       0.00      0.00      0.00      1000\n",
      "           2       0.00      0.00      0.00      1000\n",
      "           3       0.10      1.00      0.18      1000\n",
      "           4       0.00      0.00      0.00      1000\n",
      "           5       0.00      0.00      0.00      1000\n",
      "           6       0.00      0.00      0.00      1000\n",
      "           7       0.00      0.00      0.00      1000\n",
      "           8       0.00      0.00      0.00      1000\n",
      "           9       0.00      0.00      0.00      1000\n",
      "\n",
      "    accuracy                           0.10     10000\n",
      "   macro avg       0.01      0.10      0.02     10000\n",
      "weighted avg       0.01      0.10      0.02     10000\n",
      "\n"
     ]
    }
   ],
   "source": [
    "# Load the saved model (containing custom objec) using with the custom_object argument\n",
    "saved_model = tf.keras.models.load_model(saved_model_path, custom_objects={\"create_vgg_net\": create_vgg_net})\n",
    "\n",
    "\n",
    "# Predict one-hot encoded labels for the test images\n",
    "labels_test_predicted_one_hot_encoded = saved_model.predict(images_test)\n",
    "print(\"\\nShape of the one-hot encoded predictions array: \", labels_test_predicted_one_hot_encoded.shape)\n",
    "print(\"Data type of the one-hot encoded predictions array: \", labels_test_predicted_one_hot_encoded.dtype)\n",
    "\n",
    "# Create an array of integer labels by converting one-hot encoded labels array \n",
    "# This is done by getting the label/index of the highest probability class\n",
    "labels_test_predicted = tf.argmax(labels_test_predicted_one_hot_encoded, axis=1) \n",
    "print(\"\\nShape of the integer predictions array: \", labels_test_predicted.shape)\n",
    "print(\"Data type of the integer predictions array: \", labels_test_predicted.dtype)\n",
    "\n",
    "print(\"\\nSample one-hot encoded predicted label: \", labels_test_predicted_one_hot_encoded[670])\n",
    "print(\"Sample integer true label: \", labels_test_predicted[670])\n",
    "\n",
    "test_accuracy = np.mean(labels_test_predicted == labels_test)\n",
    "print(\"\\nTest Accuracy: \", test_accuracy)\n",
    "\n",
    "print(\"\\nTest Confusion Matrix:\")\n",
    "print(confusion_matrix(labels_test, labels_test_predicted))\n",
    "\n",
    "print(\"\\nClassification Report:\")\n",
    "print(classification_report(labels_test, labels_test_predicted))"
   ]
  }
 ],
 "metadata": {
  "kernelspec": {
   "display_name": "Python 3",
   "language": "python",
   "name": "python3"
  },
  "language_info": {
   "codemirror_mode": {
    "name": "ipython",
    "version": 3
   },
   "file_extension": ".py",
   "mimetype": "text/x-python",
   "name": "python",
   "nbconvert_exporter": "python",
   "pygments_lexer": "ipython3",
   "version": "3.7.3"
  }
 },
 "nbformat": 4,
 "nbformat_minor": 2
}
